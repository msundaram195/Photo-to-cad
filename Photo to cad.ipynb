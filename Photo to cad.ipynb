{
 "cells": [
  {
   "cell_type": "code",
   "execution_count": 1,
   "id": "cd82ab1d-c6b0-40bd-83fc-dca472a45dd8",
   "metadata": {},
   "outputs": [
    {
     "name": "stdout",
     "output_type": "stream",
     "text": [
      "Defaulting to user installation because normal site-packages is not writeable\n",
      "Requirement already satisfied: ezdxf in c:\\users\\user\\appdata\\roaming\\python\\python310\\site-packages (1.4.2)\n",
      "Requirement already satisfied: pyparsing>=2.0.1 in c:\\users\\user\\appdata\\roaming\\python\\python310\\site-packages (from ezdxf) (3.2.3)\n",
      "Requirement already satisfied: typing_extensions>=4.6.0 in c:\\users\\user\\appdata\\roaming\\python\\python310\\site-packages (from ezdxf) (4.14.0)\n",
      "Requirement already satisfied: numpy in c:\\users\\user\\appdata\\roaming\\python\\python310\\site-packages (from ezdxf) (1.24.3)\n",
      "Requirement already satisfied: fonttools in c:\\users\\user\\appdata\\roaming\\python\\python310\\site-packages (from ezdxf) (4.58.2)\n"
     ]
    },
    {
     "name": "stderr",
     "output_type": "stream",
     "text": [
      "WARNING: You are using pip version 21.2.3; however, version 25.2 is available.\n",
      "You should consider upgrading via the 'C:\\Program Files\\Python310\\python.exe -m pip install --upgrade pip' command.\n"
     ]
    }
   ],
   "source": [
    "!pip install ezdxf"
   ]
  },
  {
   "cell_type": "code",
   "execution_count": 2,
   "id": "5ace4eb1-03a8-4d7d-900f-3e6eb07fc368",
   "metadata": {},
   "outputs": [],
   "source": [
    "import ezdxf\n",
    "import numpy\n",
    "import cv2\n",
    "import argparse"
   ]
  },
  {
   "cell_type": "code",
   "execution_count": 3,
   "id": "788d5ef7-f88c-4627-9041-5c565e41a046",
   "metadata": {},
   "outputs": [],
   "source": [
    "def img_to_dxf(\n",
    "    input_path,\n",
    "    output_path=\"output.dxf\",\n",
    "    downscale=1.0,\n",
    "    blur=3,\n",
    "    threshold=127,\n",
    "    use_canny=False,\n",
    "    min_points=8,\n",
    "    approx_epsilon=1.5,\n",
    "    lower=None,\n",
    "    upper=None\n",
    "):\n",
    "    \"\"\"\n",
    "    Convert an input image to DXF using contour tracing.\n",
    "    \"\"\"\n",
    "    def parse_tuple(s):\n",
    "        s = s.replace(\"(\", \"\").replace(\")\", \"\")\n",
    "        parts = [p.strip() for p in s.split(\",\")]\n",
    "        return tuple(int(p) for p in parts)\n",
    "\n",
    "    # Load image\n",
    "    img = cv2.imread(input_path, cv2.IMREAD_COLOR)\n",
    "    if img is None:\n",
    "        raise ValueError(f\"Could not read image '{input_path}'\")\n",
    "\n",
    "    # Optional color mask\n",
    "    if lower and upper:\n",
    "        lower = np.array(parse_tuple(lower), dtype=np.uint8)\n",
    "        upper = np.array(parse_tuple(upper), dtype=np.uint8)\n",
    "        mask = cv2.inRange(img, lower, upper)\n",
    "        proc = mask\n",
    "    else:\n",
    "        proc = cv2.cvtColor(img, cv2.COLOR_BGR2GRAY)\n",
    "\n",
    "    # Downscale\n",
    "    if downscale > 1.0:\n",
    "        new_w = int(proc.shape[1] / downscale)\n",
    "        new_h = int(proc.shape[0] / downscale)\n",
    "        proc = cv2.resize(proc, (new_w, new_h), interpolation=cv2.INTER_AREA)\n",
    "\n",
    "    # Blur\n",
    "    if blur and blur > 1:\n",
    "        k = blur if blur % 2 == 1 else blur + 1\n",
    "        proc = cv2.GaussianBlur(proc, (k, k), 0)\n",
    "\n",
    "    # Edge detection / thresholding\n",
    "    if use_canny:\n",
    "        if len(proc.shape) == 3:\n",
    "            gray = cv2.cvtColor(proc, cv2.COLOR_BGR2GRAY)\n",
    "        else:\n",
    "            gray = proc\n",
    "        bin_img = cv2.Canny(gray, 50, 150)\n",
    "    else:\n",
    "        if len(proc.shape) == 3:\n",
    "            gray = cv2.cvtColor(proc, cv2.COLOR_BGR2GRAY)\n",
    "        else:\n",
    "            gray = proc\n",
    "        _, bin_img = cv2.threshold(gray, threshold, 255, cv2.THRESH_BINARY_INV)\n",
    "\n",
    "    # Contours\n",
    "    contours_info = cv2.findContours(bin_img, cv2.RETR_EXTERNAL, cv2.CHAIN_APPROX_SIMPLE)\n",
    "    contours = contours_info[0] if len(contours_info) == 2 else contours_info[1]\n",
    "\n",
    "    # Create DXF\n",
    "    doc = ezdxf.new('R2010')\n",
    "    msp = doc.modelspace()\n",
    "    h, w = bin_img.shape[:2]\n",
    "\n",
    "    total_polylines = 0\n",
    "    for cnt in contours:\n",
    "        if len(cnt) < min_points:\n",
    "            continue\n",
    "        approx = cv2.approxPolyDP(cnt, approx_epsilon, closed=True)\n",
    "        pts = []\n",
    "        for p in approx.reshape(-1, 2):\n",
    "            x = float(p[0])\n",
    "            y = float(h - p[1])  # flip Y\n",
    "            if downscale > 1.0:\n",
    "                x *= downscale\n",
    "                y *= downscale\n",
    "            pts.append((x, y))\n",
    "        if len(pts) >= 2:\n",
    "            msp.add_lwpolyline(pts, close=True)\n",
    "            total_polylines += 1\n",
    "\n",
    "    doc.saveas(output_path)\n",
    "    print(f\"Saved '{output_path}' with {total_polylines} polylines (image size: {w}x{h})\")\n"
   ]
  },
  {
   "cell_type": "code",
   "execution_count": 4,
   "id": "cdef807a-3429-4b86-a013-b88d119d0206",
   "metadata": {},
   "outputs": [
    {
     "name": "stdout",
     "output_type": "stream",
     "text": [
      "Saved 'output.dxf' with 25 polylines (image size: 400x258)\n"
     ]
    }
   ],
   "source": [
    "img_to_dxf(\n",
    "    input_path=\"drawing1.jpg\",   # Your drawing image\n",
    "    output_path=\"output.dxf\",     # Output DXF file\n",
    "    downscale=2.0,                # Optional: reduce complexity\n",
    "    blur=3,\n",
    "    threshold=127,\n",
    "    use_canny=True,               # Try edge detector\n",
    "    min_points=10,\n",
    "    approx_epsilon=2.0\n",
    ")\n"
   ]
  },
  {
   "cell_type": "code",
   "execution_count": null,
   "id": "fbf977a9-9626-4ddf-9f7f-fc88ac897165",
   "metadata": {},
   "outputs": [],
   "source": [
    " "
   ]
  }
 ],
 "metadata": {
  "kernelspec": {
   "display_name": "Python 3.10 (CV Tools)",
   "language": "python",
   "name": "py310cv"
  },
  "language_info": {
   "codemirror_mode": {
    "name": "ipython",
    "version": 3
   },
   "file_extension": ".py",
   "mimetype": "text/x-python",
   "name": "python",
   "nbconvert_exporter": "python",
   "pygments_lexer": "ipython3",
   "version": "3.10.0rc2"
  }
 },
 "nbformat": 4,
 "nbformat_minor": 5
}
